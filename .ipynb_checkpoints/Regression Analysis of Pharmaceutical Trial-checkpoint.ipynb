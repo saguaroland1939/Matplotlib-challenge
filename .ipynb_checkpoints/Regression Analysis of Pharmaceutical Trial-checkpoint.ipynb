{
 "cells": [
  {
   "cell_type": "markdown",
   "metadata": {},
   "source": [
    "# Statistical Analysis of Pharmaceutical Trial"
   ]
  },
  {
   "cell_type": "markdown",
   "metadata": {},
   "source": [
    "### Observations"
   ]
  },
  {
   "cell_type": "markdown",
   "metadata": {},
   "source": [
    "#### 1. The line plot illustrates that tumor size shrinks over time for mice under the Capumolin treatment."
   ]
  },
  {
   "cell_type": "markdown",
   "metadata": {},
   "source": [
    "#### 2. The correlation coefficient of 0.53 indicates a moderate positive correlation between mouse weight and tumor size (for the Capomulin regimen."
   ]
  },
  {
   "cell_type": "markdown",
   "metadata": {},
   "source": [
    "#### 3. The Infubinol treatment had four outliers with identical, abnormally small tumor size. That might be worth checking for typos in the dataset."
   ]
  },
  {
   "cell_type": "code",
   "execution_count": 2,
   "metadata": {},
   "outputs": [],
   "source": [
    "# Dependencies and Setup\n",
    "import matplotlib.pyplot as plt\n",
    "import matplotlib.pylab as plb\n",
    "import pandas as pd\n",
    "import scipy.stats as sts\n",
    "\n",
    "# Study data files\n",
    "mouse_metadata_path = \"data/Mouse_metadata.csv\"\n",
    "study_results_path = \"data/Study_results.csv\"\n",
    "\n",
    "# Read the mouse data and the study results\n",
    "mouse_metadata = pd.read_csv(mouse_metadata_path)\n",
    "study_results = pd.read_csv(study_results_path)"
   ]
  },
  {
   "cell_type": "code",
   "execution_count": 3,
   "metadata": {},
   "outputs": [
    {
     "data": {
      "text/html": [
       "<div>\n",
       "<style scoped>\n",
       "    .dataframe tbody tr th:only-of-type {\n",
       "        vertical-align: middle;\n",
       "    }\n",
       "\n",
       "    .dataframe tbody tr th {\n",
       "        vertical-align: top;\n",
       "    }\n",
       "\n",
       "    .dataframe thead th {\n",
       "        text-align: right;\n",
       "    }\n",
       "</style>\n",
       "<table border=\"1\" class=\"dataframe\">\n",
       "  <thead>\n",
       "    <tr style=\"text-align: right;\">\n",
       "      <th></th>\n",
       "      <th>Mouse ID</th>\n",
       "      <th>Timepoint</th>\n",
       "      <th>Tumor Volume (mm3)</th>\n",
       "      <th>Metastatic Sites</th>\n",
       "      <th>Mouse ID + Timepoint</th>\n",
       "      <th>Unnamed: 5</th>\n",
       "      <th>Drug Regimen</th>\n",
       "      <th>Sex</th>\n",
       "      <th>Age_months</th>\n",
       "      <th>Weight (g)</th>\n",
       "    </tr>\n",
       "  </thead>\n",
       "  <tbody>\n",
       "    <tr>\n",
       "      <th>0</th>\n",
       "      <td>x401</td>\n",
       "      <td>40</td>\n",
       "      <td>28.167397</td>\n",
       "      <td>0</td>\n",
       "      <td>x40140</td>\n",
       "      <td>NaN</td>\n",
       "      <td>Capomulin</td>\n",
       "      <td>Female</td>\n",
       "      <td>16</td>\n",
       "      <td>15</td>\n",
       "    </tr>\n",
       "    <tr>\n",
       "      <th>1</th>\n",
       "      <td>x401</td>\n",
       "      <td>45</td>\n",
       "      <td>28.484033</td>\n",
       "      <td>0</td>\n",
       "      <td>x40145</td>\n",
       "      <td>NaN</td>\n",
       "      <td>Capomulin</td>\n",
       "      <td>Female</td>\n",
       "      <td>16</td>\n",
       "      <td>15</td>\n",
       "    </tr>\n",
       "    <tr>\n",
       "      <th>2</th>\n",
       "      <td>x401</td>\n",
       "      <td>35</td>\n",
       "      <td>30.206825</td>\n",
       "      <td>0</td>\n",
       "      <td>x40135</td>\n",
       "      <td>NaN</td>\n",
       "      <td>Capomulin</td>\n",
       "      <td>Female</td>\n",
       "      <td>16</td>\n",
       "      <td>15</td>\n",
       "    </tr>\n",
       "    <tr>\n",
       "      <th>3</th>\n",
       "      <td>x401</td>\n",
       "      <td>30</td>\n",
       "      <td>32.915292</td>\n",
       "      <td>0</td>\n",
       "      <td>x40130</td>\n",
       "      <td>NaN</td>\n",
       "      <td>Capomulin</td>\n",
       "      <td>Female</td>\n",
       "      <td>16</td>\n",
       "      <td>15</td>\n",
       "    </tr>\n",
       "    <tr>\n",
       "      <th>4</th>\n",
       "      <td>x401</td>\n",
       "      <td>20</td>\n",
       "      <td>36.065835</td>\n",
       "      <td>0</td>\n",
       "      <td>x40120</td>\n",
       "      <td>NaN</td>\n",
       "      <td>Capomulin</td>\n",
       "      <td>Female</td>\n",
       "      <td>16</td>\n",
       "      <td>15</td>\n",
       "    </tr>\n",
       "  </tbody>\n",
       "</table>\n",
       "</div>"
      ],
      "text/plain": [
       "  Mouse ID  Timepoint  Tumor Volume (mm3)  Metastatic Sites  \\\n",
       "0     x401         40           28.167397                 0   \n",
       "1     x401         45           28.484033                 0   \n",
       "2     x401         35           30.206825                 0   \n",
       "3     x401         30           32.915292                 0   \n",
       "4     x401         20           36.065835                 0   \n",
       "\n",
       "  Mouse ID + Timepoint  Unnamed: 5 Drug Regimen     Sex  Age_months  \\\n",
       "0               x40140         NaN    Capomulin  Female          16   \n",
       "1               x40145         NaN    Capomulin  Female          16   \n",
       "2               x40135         NaN    Capomulin  Female          16   \n",
       "3               x40130         NaN    Capomulin  Female          16   \n",
       "4               x40120         NaN    Capomulin  Female          16   \n",
       "\n",
       "   Weight (g)  \n",
       "0          15  \n",
       "1          15  \n",
       "2          15  \n",
       "3          15  \n",
       "4          15  "
      ]
     },
     "execution_count": 3,
     "metadata": {},
     "output_type": "execute_result"
    }
   ],
   "source": [
    "# Combine the data into a single dataframe using an inner join and display dataframe.\n",
    "df = pd.merge(study_results, mouse_metadata, on = \"Mouse ID\", how = \"inner\")\n",
    "df.head()"
   ]
  },
  {
   "cell_type": "code",
   "execution_count": 4,
   "metadata": {},
   "outputs": [],
   "source": [
    "# Add a column to hold concatenation of Mouse ID and Timepoint columns. This will be used to locate\n",
    "# duplicated mouse trial data points. Then drop all unneeded columns.\n",
    "df[\"Mouse ID Timepoint\"] = df[\"Mouse ID\"] + df[\"Timepoint\"].apply(str)\n",
    "df = df.drop([\"Metastatic Sites\", \"Unnamed: 5\", \"Age_months\"], axis = 1)"
   ]
  },
  {
   "cell_type": "code",
   "execution_count": 5,
   "metadata": {},
   "outputs": [
    {
     "data": {
      "text/html": [
       "<div>\n",
       "<style scoped>\n",
       "    .dataframe tbody tr th:only-of-type {\n",
       "        vertical-align: middle;\n",
       "    }\n",
       "\n",
       "    .dataframe tbody tr th {\n",
       "        vertical-align: top;\n",
       "    }\n",
       "\n",
       "    .dataframe thead th {\n",
       "        text-align: right;\n",
       "    }\n",
       "</style>\n",
       "<table border=\"1\" class=\"dataframe\">\n",
       "  <thead>\n",
       "    <tr style=\"text-align: right;\">\n",
       "      <th></th>\n",
       "      <th>Mouse ID</th>\n",
       "      <th>Timepoint</th>\n",
       "      <th>Tumor Volume (mm3)</th>\n",
       "      <th>Mouse ID + Timepoint</th>\n",
       "      <th>Drug Regimen</th>\n",
       "      <th>Sex</th>\n",
       "      <th>Weight (g)</th>\n",
       "      <th>Mouse ID Timepoint</th>\n",
       "    </tr>\n",
       "  </thead>\n",
       "  <tbody>\n",
       "    <tr>\n",
       "      <th>0</th>\n",
       "      <td>x401</td>\n",
       "      <td>40</td>\n",
       "      <td>28.167397</td>\n",
       "      <td>x40140</td>\n",
       "      <td>Capomulin</td>\n",
       "      <td>Female</td>\n",
       "      <td>15</td>\n",
       "      <td>x40140</td>\n",
       "    </tr>\n",
       "    <tr>\n",
       "      <th>1</th>\n",
       "      <td>x401</td>\n",
       "      <td>45</td>\n",
       "      <td>28.484033</td>\n",
       "      <td>x40145</td>\n",
       "      <td>Capomulin</td>\n",
       "      <td>Female</td>\n",
       "      <td>15</td>\n",
       "      <td>x40145</td>\n",
       "    </tr>\n",
       "    <tr>\n",
       "      <th>2</th>\n",
       "      <td>x401</td>\n",
       "      <td>35</td>\n",
       "      <td>30.206825</td>\n",
       "      <td>x40135</td>\n",
       "      <td>Capomulin</td>\n",
       "      <td>Female</td>\n",
       "      <td>15</td>\n",
       "      <td>x40135</td>\n",
       "    </tr>\n",
       "    <tr>\n",
       "      <th>3</th>\n",
       "      <td>x401</td>\n",
       "      <td>30</td>\n",
       "      <td>32.915292</td>\n",
       "      <td>x40130</td>\n",
       "      <td>Capomulin</td>\n",
       "      <td>Female</td>\n",
       "      <td>15</td>\n",
       "      <td>x40130</td>\n",
       "    </tr>\n",
       "    <tr>\n",
       "      <th>4</th>\n",
       "      <td>x401</td>\n",
       "      <td>20</td>\n",
       "      <td>36.065835</td>\n",
       "      <td>x40120</td>\n",
       "      <td>Capomulin</td>\n",
       "      <td>Female</td>\n",
       "      <td>15</td>\n",
       "      <td>x40120</td>\n",
       "    </tr>\n",
       "  </tbody>\n",
       "</table>\n",
       "</div>"
      ],
      "text/plain": [
       "  Mouse ID  Timepoint  Tumor Volume (mm3) Mouse ID + Timepoint Drug Regimen  \\\n",
       "0     x401         40           28.167397               x40140    Capomulin   \n",
       "1     x401         45           28.484033               x40145    Capomulin   \n",
       "2     x401         35           30.206825               x40135    Capomulin   \n",
       "3     x401         30           32.915292               x40130    Capomulin   \n",
       "4     x401         20           36.065835               x40120    Capomulin   \n",
       "\n",
       "      Sex  Weight (g) Mouse ID Timepoint  \n",
       "0  Female          15             x40140  \n",
       "1  Female          15             x40145  \n",
       "2  Female          15             x40135  \n",
       "3  Female          15             x40130  \n",
       "4  Female          15             x40120  "
      ]
     },
     "execution_count": 5,
     "metadata": {},
     "output_type": "execute_result"
    }
   ],
   "source": [
    "# Display head of df.\n",
    "df.head()"
   ]
  },
  {
   "cell_type": "code",
   "execution_count": 6,
   "metadata": {},
   "outputs": [
    {
     "data": {
      "text/html": [
       "<div>\n",
       "<style scoped>\n",
       "    .dataframe tbody tr th:only-of-type {\n",
       "        vertical-align: middle;\n",
       "    }\n",
       "\n",
       "    .dataframe tbody tr th {\n",
       "        vertical-align: top;\n",
       "    }\n",
       "\n",
       "    .dataframe thead th {\n",
       "        text-align: right;\n",
       "    }\n",
       "</style>\n",
       "<table border=\"1\" class=\"dataframe\">\n",
       "  <thead>\n",
       "    <tr style=\"text-align: right;\">\n",
       "      <th></th>\n",
       "      <th>Timepoint</th>\n",
       "      <th>Tumor Volume (mm3)</th>\n",
       "      <th>Weight (g)</th>\n",
       "    </tr>\n",
       "  </thead>\n",
       "  <tbody>\n",
       "    <tr>\n",
       "      <th>count</th>\n",
       "      <td>1893.000000</td>\n",
       "      <td>1893.000000</td>\n",
       "      <td>1893.000000</td>\n",
       "    </tr>\n",
       "    <tr>\n",
       "      <th>mean</th>\n",
       "      <td>19.572108</td>\n",
       "      <td>50.448381</td>\n",
       "      <td>25.662441</td>\n",
       "    </tr>\n",
       "    <tr>\n",
       "      <th>std</th>\n",
       "      <td>14.079460</td>\n",
       "      <td>8.894722</td>\n",
       "      <td>3.921622</td>\n",
       "    </tr>\n",
       "    <tr>\n",
       "      <th>min</th>\n",
       "      <td>0.000000</td>\n",
       "      <td>22.050126</td>\n",
       "      <td>15.000000</td>\n",
       "    </tr>\n",
       "    <tr>\n",
       "      <th>25%</th>\n",
       "      <td>5.000000</td>\n",
       "      <td>45.000000</td>\n",
       "      <td>25.000000</td>\n",
       "    </tr>\n",
       "    <tr>\n",
       "      <th>50%</th>\n",
       "      <td>20.000000</td>\n",
       "      <td>48.951474</td>\n",
       "      <td>27.000000</td>\n",
       "    </tr>\n",
       "    <tr>\n",
       "      <th>75%</th>\n",
       "      <td>30.000000</td>\n",
       "      <td>56.292200</td>\n",
       "      <td>29.000000</td>\n",
       "    </tr>\n",
       "    <tr>\n",
       "      <th>max</th>\n",
       "      <td>45.000000</td>\n",
       "      <td>78.567014</td>\n",
       "      <td>30.000000</td>\n",
       "    </tr>\n",
       "  </tbody>\n",
       "</table>\n",
       "</div>"
      ],
      "text/plain": [
       "         Timepoint  Tumor Volume (mm3)   Weight (g)\n",
       "count  1893.000000         1893.000000  1893.000000\n",
       "mean     19.572108           50.448381    25.662441\n",
       "std      14.079460            8.894722     3.921622\n",
       "min       0.000000           22.050126    15.000000\n",
       "25%       5.000000           45.000000    25.000000\n",
       "50%      20.000000           48.951474    27.000000\n",
       "75%      30.000000           56.292200    29.000000\n",
       "max      45.000000           78.567014    30.000000"
      ]
     },
     "execution_count": 6,
     "metadata": {},
     "output_type": "execute_result"
    }
   ],
   "source": [
    "# Display basic stats of numeric columns.\n",
    "df.describe()"
   ]
  },
  {
   "cell_type": "code",
   "execution_count": 7,
   "metadata": {},
   "outputs": [
    {
     "name": "stdout",
     "output_type": "stream",
     "text": [
      "Number of mouse trials: 1893\n",
      "Number of unique mouse trials: 1888\n",
      "There are 5 duplicated mouse trials.\n"
     ]
    }
   ],
   "source": [
    "# Compute and display number of total mouse trial datapoints, number of unique mouse trial datapoints, and number of duplicated mouse trial datapoints.\n",
    "# A 'mouse trial datapoint' is a unique timepoint for a unique mouse ID, e.g., mouse x401 at time 0, mouse x401 at time 15..., mouse x401 at time 45.\n",
    "\n",
    "# Check number of mouse trials in df (include duplicates).\n",
    "print(\"Number of mouse trials: \" + str(df[\"Mouse ID Timepoint\"].count()))\n",
    "# Check number of unique mouse trials in df.\n",
    "print(\"Number of unique mouse trials: \" + str(df[\"Mouse ID Timepoint\"].nunique()))\n",
    "# Check number of duplicates. These will need to be removed.\n",
    "print(\"There are \" + str(df[\"Mouse ID Timepoint\"].count() - df[\"Mouse ID Timepoint\"].nunique()) + \" duplicated mouse trials.\" )"
   ]
  },
  {
   "cell_type": "code",
   "execution_count": 8,
   "metadata": {},
   "outputs": [],
   "source": [
    "# Drop the duplicate rows from df. (This only dropped one row for some reason...)\n",
    "clean_df = df.drop_duplicates(keep = \"first\")"
   ]
  },
  {
   "cell_type": "code",
   "execution_count": 9,
   "metadata": {},
   "outputs": [
    {
     "name": "stdout",
     "output_type": "stream",
     "text": [
      "Number of mouse trials: 1892\n",
      "Number of unique mouse trials: 1888\n",
      "There are still 4 duplicated mouse trials, argh!\n"
     ]
    }
   ],
   "source": [
    "# Check number of mouse trials in df (include duplicates).\n",
    "print(\"Number of mouse trials: \" + str(clean_df[\"Mouse ID Timepoint\"].count()))\n",
    "# Check number of unique mouse trials in df.\n",
    "print(\"Number of unique mouse trials: \" + str(clean_df[\"Mouse ID Timepoint\"].nunique()))\n",
    "# Check number of duplicates. These will need to be removed.\n",
    "print(\"There are still \" + str(clean_df[\"Mouse ID Timepoint\"].count() - clean_df[\"Mouse ID Timepoint\"].nunique()) + \" duplicated mouse trials, argh!\" )"
   ]
  },
  {
   "cell_type": "markdown",
   "metadata": {},
   "source": [
    "## Summary Statistics"
   ]
  },
  {
   "cell_type": "code",
   "execution_count": 10,
   "metadata": {},
   "outputs": [
    {
     "data": {
      "text/html": [
       "<div>\n",
       "<style scoped>\n",
       "    .dataframe tbody tr th:only-of-type {\n",
       "        vertical-align: middle;\n",
       "    }\n",
       "\n",
       "    .dataframe tbody tr th {\n",
       "        vertical-align: top;\n",
       "    }\n",
       "\n",
       "    .dataframe thead tr th {\n",
       "        text-align: left;\n",
       "    }\n",
       "</style>\n",
       "<table border=\"1\" class=\"dataframe\">\n",
       "  <thead>\n",
       "    <tr>\n",
       "      <th></th>\n",
       "      <th>Drug Regimen</th>\n",
       "      <th colspan=\"5\" halign=\"left\">Tumor Volume (mm3)</th>\n",
       "    </tr>\n",
       "    <tr>\n",
       "      <th></th>\n",
       "      <th></th>\n",
       "      <th>mean</th>\n",
       "      <th>median</th>\n",
       "      <th>var</th>\n",
       "      <th>std</th>\n",
       "      <th>sem</th>\n",
       "    </tr>\n",
       "  </thead>\n",
       "  <tbody>\n",
       "    <tr>\n",
       "      <th>0</th>\n",
       "      <td>Capomulin</td>\n",
       "      <td>40.675741</td>\n",
       "      <td>41.557809</td>\n",
       "      <td>24.947764</td>\n",
       "      <td>4.994774</td>\n",
       "      <td>0.329346</td>\n",
       "    </tr>\n",
       "    <tr>\n",
       "      <th>1</th>\n",
       "      <td>Ceftamin</td>\n",
       "      <td>52.591172</td>\n",
       "      <td>51.776157</td>\n",
       "      <td>39.290177</td>\n",
       "      <td>6.268188</td>\n",
       "      <td>0.469821</td>\n",
       "    </tr>\n",
       "    <tr>\n",
       "      <th>2</th>\n",
       "      <td>Infubinol</td>\n",
       "      <td>52.884795</td>\n",
       "      <td>51.820584</td>\n",
       "      <td>43.128684</td>\n",
       "      <td>6.567243</td>\n",
       "      <td>0.492236</td>\n",
       "    </tr>\n",
       "    <tr>\n",
       "      <th>3</th>\n",
       "      <td>Ketapril</td>\n",
       "      <td>55.235638</td>\n",
       "      <td>53.698743</td>\n",
       "      <td>68.553577</td>\n",
       "      <td>8.279709</td>\n",
       "      <td>0.603860</td>\n",
       "    </tr>\n",
       "    <tr>\n",
       "      <th>4</th>\n",
       "      <td>Naftisol</td>\n",
       "      <td>54.331565</td>\n",
       "      <td>52.509285</td>\n",
       "      <td>66.173479</td>\n",
       "      <td>8.134708</td>\n",
       "      <td>0.596466</td>\n",
       "    </tr>\n",
       "    <tr>\n",
       "      <th>5</th>\n",
       "      <td>Placebo</td>\n",
       "      <td>54.033581</td>\n",
       "      <td>52.288934</td>\n",
       "      <td>61.168083</td>\n",
       "      <td>7.821003</td>\n",
       "      <td>0.581331</td>\n",
       "    </tr>\n",
       "    <tr>\n",
       "      <th>6</th>\n",
       "      <td>Propriva</td>\n",
       "      <td>52.368318</td>\n",
       "      <td>50.909965</td>\n",
       "      <td>42.278090</td>\n",
       "      <td>6.502160</td>\n",
       "      <td>0.514041</td>\n",
       "    </tr>\n",
       "    <tr>\n",
       "      <th>7</th>\n",
       "      <td>Ramicane</td>\n",
       "      <td>40.216745</td>\n",
       "      <td>40.673236</td>\n",
       "      <td>23.486704</td>\n",
       "      <td>4.846308</td>\n",
       "      <td>0.320955</td>\n",
       "    </tr>\n",
       "    <tr>\n",
       "      <th>8</th>\n",
       "      <td>Stelasyn</td>\n",
       "      <td>54.233149</td>\n",
       "      <td>52.431737</td>\n",
       "      <td>59.450562</td>\n",
       "      <td>7.710419</td>\n",
       "      <td>0.573111</td>\n",
       "    </tr>\n",
       "    <tr>\n",
       "      <th>9</th>\n",
       "      <td>Zoniferol</td>\n",
       "      <td>53.236507</td>\n",
       "      <td>51.818479</td>\n",
       "      <td>48.533355</td>\n",
       "      <td>6.966589</td>\n",
       "      <td>0.516398</td>\n",
       "    </tr>\n",
       "  </tbody>\n",
       "</table>\n",
       "</div>"
      ],
      "text/plain": [
       "  Drug Regimen Tumor Volume (mm3)                                          \n",
       "                             mean     median        var       std       sem\n",
       "0    Capomulin          40.675741  41.557809  24.947764  4.994774  0.329346\n",
       "1     Ceftamin          52.591172  51.776157  39.290177  6.268188  0.469821\n",
       "2    Infubinol          52.884795  51.820584  43.128684  6.567243  0.492236\n",
       "3     Ketapril          55.235638  53.698743  68.553577  8.279709  0.603860\n",
       "4     Naftisol          54.331565  52.509285  66.173479  8.134708  0.596466\n",
       "5      Placebo          54.033581  52.288934  61.168083  7.821003  0.581331\n",
       "6     Propriva          52.368318  50.909965  42.278090  6.502160  0.514041\n",
       "7     Ramicane          40.216745  40.673236  23.486704  4.846308  0.320955\n",
       "8     Stelasyn          54.233149  52.431737  59.450562  7.710419  0.573111\n",
       "9    Zoniferol          53.236507  51.818479  48.533355  6.966589  0.516398"
      ]
     },
     "execution_count": 10,
     "metadata": {},
     "output_type": "execute_result"
    }
   ],
   "source": [
    "# Generate summary statistics by drug regimen.\n",
    "\n",
    "functions = [\"mean\", \"median\", \"var\", \"std\", \"sem\"]\n",
    "gb = clean_df.groupby([\"Drug Regimen\"])[[\"Tumor Volume (mm3)\"]].agg(functions).reset_index()\n",
    "gb"
   ]
  },
  {
   "cell_type": "markdown",
   "metadata": {},
   "source": [
    "## Bar and Pie Charts"
   ]
  },
  {
   "cell_type": "code",
   "execution_count": 11,
   "metadata": {},
   "outputs": [
    {
     "data": {
      "text/plain": [
       "Text(0, 0.5, 'Number of Mice')"
      ]
     },
     "execution_count": 11,
     "metadata": {},
     "output_type": "execute_result"
    },
    {
     "data": {
      "image/png": "[encoded data removed]",
      "text/plain": [
       "<Figure size 432x288 with 1 Axes>"
      ]
     },
     "metadata": {
      "needs_background": "light"
     },
     "output_type": "display_data"
    }
   ],
   "source": [
    "# Generate a bar plot showing the total number of unique mice tested on each drug regimen using pandas.\n",
    "x_axis_data = [x for x in gb[\"Drug Regimen\"]]\n",
    "y_axis_data = clean_df[\"Drug Regimen\"].value_counts()\n",
    "plot_data = pd.DataFrame({\"Drug Regimens\": x_axis_data, \"Number of Mice\": y_axis_data})\n",
    "bar_plot = plot_data.plot(kind = \"bar\", title = \"Number of Mice in Each Treatment\")\n",
    "bar_plot.set_xlabel(\"Treatment\")\n",
    "bar_plot.set_ylabel(\"Number of Mice\")"
   ]
  },
  {
   "cell_type": "code",
   "execution_count": 12,
   "metadata": {
    "scrolled": true
   },
   "outputs": [
    {
     "data": {
      "image/png": "[encoded data removed]",
      "text/plain": [
       "<Figure size 432x288 with 1 Axes>"
      ]
     },
     "metadata": {
      "needs_background": "light"
     },
     "output_type": "display_data"
    }
   ],
   "source": [
    "# Generate a bar plot showing the total number of unique mice tested on each drug regimen using pyplot.\n",
    "bar_plot = plt.bar(x_axis_data, y_axis_data, label = \"Number of Mice\", width = 0.5)\n",
    "plt.xticks(rotation = 90)\n",
    "plt.title(\"Number of Mice in Each Treatment\")\n",
    "plt.xlabel(\"Treament\")\n",
    "plt.ylabel(\"Number of Mice\")\n",
    "plt.xlim(-0.5, 9.5)\n",
    "plt.ylim(0, 240)\n",
    "plt.legend(loc = \"upper right\")\n",
    "plt.show()"
   ]
  },
  {
   "cell_type": "code",
   "execution_count": 13,
   "metadata": {},
   "outputs": [
    {
     "data": {
      "text/plain": [
       "<matplotlib.axes._subplots.AxesSubplot at 0x26d12b78790>"
      ]
     },
     "execution_count": 13,
     "metadata": {},
     "output_type": "execute_result"
    },
    {
     "data": {
      "image/png": "[encoded data removed]",
      "text/plain": [
       "<Figure size 432x288 with 1 Axes>"
      ]
     },
     "metadata": {},
     "output_type": "display_data"
    }
   ],
   "source": [
    "# Generate a pie plot showing the distribution of female versus male mice using pandas\n",
    "sex_df = clean_df[\"Sex\"].value_counts()\n",
    "sex_df.to_frame()\n",
    "sex_df.plot(kind = \"pie\", y = sex_df, title = \"Distribution of Female vs. Male Mice\")"
   ]
  },
  {
   "cell_type": "code",
   "execution_count": 14,
   "metadata": {
    "scrolled": false
   },
   "outputs": [
    {
     "data": {
      "image/png": "[encoded data removed]",
      "text/plain": [
       "<Figure size 432x288 with 1 Axes>"
      ]
     },
     "metadata": {},
     "output_type": "display_data"
    }
   ],
   "source": [
    "# Generate a pie plot showing the distribution of female versus male mice using pyplot\n",
    "pie_plot = plt.pie(sex_df, labels = [\"Male\", \"Female\"], colors = [\"blue\", \"orange\"], autopct=\"%1.1f%%\")\n",
    "plt.title(\"Number of Mice in Each Treatment\")\n",
    "plt.show()"
   ]
  },
  {
   "cell_type": "markdown",
   "metadata": {},
   "source": [
    "## Screen for Tumor Size Outliers Using Quartiles, IQR, and Boxplots"
   ]
  },
  {
   "cell_type": "code",
   "execution_count": 15,
   "metadata": {},
   "outputs": [
    {
     "data": {
      "text/html": [
       "<div>\n",
       "<style scoped>\n",
       "    .dataframe tbody tr th:only-of-type {\n",
       "        vertical-align: middle;\n",
       "    }\n",
       "\n",
       "    .dataframe tbody tr th {\n",
       "        vertical-align: top;\n",
       "    }\n",
       "\n",
       "    .dataframe thead th {\n",
       "        text-align: right;\n",
       "    }\n",
       "</style>\n",
       "<table border=\"1\" class=\"dataframe\">\n",
       "  <thead>\n",
       "    <tr style=\"text-align: right;\">\n",
       "      <th></th>\n",
       "      <th>Mouse ID</th>\n",
       "      <th>Timepoint</th>\n",
       "      <th>Tumor Volume (mm3)</th>\n",
       "      <th>Mouse ID + Timepoint</th>\n",
       "      <th>Drug Regimen</th>\n",
       "      <th>Sex</th>\n",
       "      <th>Weight (g)</th>\n",
       "      <th>Mouse ID Timepoint</th>\n",
       "    </tr>\n",
       "  </thead>\n",
       "  <tbody>\n",
       "    <tr>\n",
       "      <th>0</th>\n",
       "      <td>a203</td>\n",
       "      <td>45</td>\n",
       "      <td>67.973419</td>\n",
       "      <td>a20345</td>\n",
       "      <td>Infubinol</td>\n",
       "      <td>Female</td>\n",
       "      <td>23</td>\n",
       "      <td>a20345</td>\n",
       "    </tr>\n",
       "    <tr>\n",
       "      <th>1</th>\n",
       "      <td>a251</td>\n",
       "      <td>45</td>\n",
       "      <td>65.525743</td>\n",
       "      <td>a25145</td>\n",
       "      <td>Infubinol</td>\n",
       "      <td>Female</td>\n",
       "      <td>25</td>\n",
       "      <td>a25145</td>\n",
       "    </tr>\n",
       "    <tr>\n",
       "      <th>2</th>\n",
       "      <td>a262</td>\n",
       "      <td>45</td>\n",
       "      <td>70.717621</td>\n",
       "      <td>a26245</td>\n",
       "      <td>Placebo</td>\n",
       "      <td>Female</td>\n",
       "      <td>29</td>\n",
       "      <td>a26245</td>\n",
       "    </tr>\n",
       "    <tr>\n",
       "      <th>3</th>\n",
       "      <td>a275</td>\n",
       "      <td>45</td>\n",
       "      <td>62.999356</td>\n",
       "      <td>a27545</td>\n",
       "      <td>Ceftamin</td>\n",
       "      <td>Female</td>\n",
       "      <td>28</td>\n",
       "      <td>a27545</td>\n",
       "    </tr>\n",
       "    <tr>\n",
       "      <th>4</th>\n",
       "      <td>a366</td>\n",
       "      <td>30</td>\n",
       "      <td>63.440686</td>\n",
       "      <td>a36630</td>\n",
       "      <td>Stelasyn</td>\n",
       "      <td>Female</td>\n",
       "      <td>29</td>\n",
       "      <td>a36630</td>\n",
       "    </tr>\n",
       "    <tr>\n",
       "      <th>...</th>\n",
       "      <td>...</td>\n",
       "      <td>...</td>\n",
       "      <td>...</td>\n",
       "      <td>...</td>\n",
       "      <td>...</td>\n",
       "      <td>...</td>\n",
       "      <td>...</td>\n",
       "      <td>...</td>\n",
       "    </tr>\n",
       "    <tr>\n",
       "      <th>244</th>\n",
       "      <td>z435</td>\n",
       "      <td>10</td>\n",
       "      <td>48.710661</td>\n",
       "      <td>z43510</td>\n",
       "      <td>Propriva</td>\n",
       "      <td>Female</td>\n",
       "      <td>26</td>\n",
       "      <td>z43510</td>\n",
       "    </tr>\n",
       "    <tr>\n",
       "      <th>245</th>\n",
       "      <td>z578</td>\n",
       "      <td>45</td>\n",
       "      <td>30.638696</td>\n",
       "      <td>z57845</td>\n",
       "      <td>Ramicane</td>\n",
       "      <td>Male</td>\n",
       "      <td>16</td>\n",
       "      <td>z57845</td>\n",
       "    </tr>\n",
       "    <tr>\n",
       "      <th>246</th>\n",
       "      <td>z581</td>\n",
       "      <td>45</td>\n",
       "      <td>62.754451</td>\n",
       "      <td>z58145</td>\n",
       "      <td>Infubinol</td>\n",
       "      <td>Female</td>\n",
       "      <td>25</td>\n",
       "      <td>z58145</td>\n",
       "    </tr>\n",
       "    <tr>\n",
       "      <th>247</th>\n",
       "      <td>z795</td>\n",
       "      <td>45</td>\n",
       "      <td>65.741070</td>\n",
       "      <td>z79545</td>\n",
       "      <td>Naftisol</td>\n",
       "      <td>Female</td>\n",
       "      <td>29</td>\n",
       "      <td>z79545</td>\n",
       "    </tr>\n",
       "    <tr>\n",
       "      <th>248</th>\n",
       "      <td>z969</td>\n",
       "      <td>45</td>\n",
       "      <td>73.867845</td>\n",
       "      <td>z96945</td>\n",
       "      <td>Naftisol</td>\n",
       "      <td>Male</td>\n",
       "      <td>30</td>\n",
       "      <td>z96945</td>\n",
       "    </tr>\n",
       "  </tbody>\n",
       "</table>\n",
       "<p>249 rows × 8 columns</p>\n",
       "</div>"
      ],
      "text/plain": [
       "    Mouse ID  Timepoint  Tumor Volume (mm3) Mouse ID + Timepoint Drug Regimen  \\\n",
       "0       a203         45           67.973419               a20345    Infubinol   \n",
       "1       a251         45           65.525743               a25145    Infubinol   \n",
       "2       a262         45           70.717621               a26245      Placebo   \n",
       "3       a275         45           62.999356               a27545     Ceftamin   \n",
       "4       a366         30           63.440686               a36630     Stelasyn   \n",
       "..       ...        ...                 ...                  ...          ...   \n",
       "244     z435         10           48.710661               z43510     Propriva   \n",
       "245     z578         45           30.638696               z57845     Ramicane   \n",
       "246     z581         45           62.754451               z58145    Infubinol   \n",
       "247     z795         45           65.741070               z79545     Naftisol   \n",
       "248     z969         45           73.867845               z96945     Naftisol   \n",
       "\n",
       "        Sex  Weight (g) Mouse ID Timepoint  \n",
       "0    Female          23             a20345  \n",
       "1    Female          25             a25145  \n",
       "2    Female          29             a26245  \n",
       "3    Female          28             a27545  \n",
       "4    Female          29             a36630  \n",
       "..      ...         ...                ...  \n",
       "244  Female          26             z43510  \n",
       "245    Male          16             z57845  \n",
       "246  Female          25             z58145  \n",
       "247  Female          29             z79545  \n",
       "248    Male          30             z96945  \n",
       "\n",
       "[249 rows x 8 columns]"
      ]
     },
     "execution_count": 15,
     "metadata": {},
     "output_type": "execute_result"
    }
   ],
   "source": [
    "# Calculate the final tumor volume of each mouse across four of the treatment regimens:  \n",
    "# Capomulin, Ramicane, Infubinol, and Ceftamin\n",
    "\n",
    "# Group and aggregate to reduce dataframe to only the final timepoint for each mouse\n",
    "last_timepoint_df = clean_df.groupby([\"Mouse ID\"]).agg({\"Timepoint\": max})\n",
    "\n",
    "# Merge this reduced df with the original dataframe to access corresponding tumor volume information.\n",
    "# Merge left to include only the final timepoints.\n",
    "merged_df = pd.merge(last_timepoint_df, clean_df, how = \"left\", on = [\"Mouse ID\", \"Timepoint\"])\n",
    "# Calculate the IQR and quantitatively determine if there are any potential outliers. merged_df\n",
    "merged_df"
   ]
  },
  {
   "cell_type": "code",
   "execution_count": 16,
   "metadata": {},
   "outputs": [],
   "source": [
    "# Construct lists of treatments and final tumor volumes by treatment.\n",
    "\n",
    "# Treatment list\n",
    "treatments = [\"Capomulin\", \"Ramicane\", \"Infubinol\", \"Ceftamin\"]\n",
    "\n",
    "# Tumor volume list\n",
    "tumor_volumes_Capomulin = []\n",
    "tumor_volumes_Ramicane = []\n",
    "tumor_volumes_Infubinol = []\n",
    "tumor_volumes_Ceftamin = []\n",
    "\n",
    "# Loop through merged_df and append tumor volume data to appropriate list.\n",
    "for treatment in treatments:\n",
    "    for index, row in merged_df.iterrows():\n",
    "        if row[\"Drug Regimen\"] == \"Capomulin\":\n",
    "            tumor_volumes_Capomulin.append(row[\"Tumor Volume (mm3)\"])\n",
    "        elif row[\"Drug Regimen\"] == \"Ramicane\":\n",
    "            tumor_volumes_Ramicane.append(row[\"Tumor Volume (mm3)\"])\n",
    "        elif row[\"Drug Regimen\"] == \"Infubinol\":\n",
    "            tumor_volumes_Infubinol.append(row[\"Tumor Volume (mm3)\"])\n",
    "        elif row[\"Drug Regimen\"] == \"Ceftamin\":\n",
    "            tumor_volumes_Ceftamin.append(row[\"Tumor Volume (mm3)\"])"
   ]
  },
  {
   "cell_type": "code",
   "execution_count": 17,
   "metadata": {},
   "outputs": [],
   "source": [
    "# Calculate Q1 and Q3 for each treatment.     \n",
    "Capomulin_quartiles_df = pd.DataFrame(tumor_volumes_Capomulin, columns = [\"Quartiles\"]).quantile([0.25, 0.75])\n",
    "Ramicane_quartiles_df = pd.DataFrame(tumor_volumes_Ramicane, columns = [\"Quartiles\"]).quantile([0.25, 0.75])\n",
    "Infubinol_quartiles_df = pd.DataFrame(tumor_volumes_Infubinol, columns = [\"Quartiles\"]).quantile([0.25, 0.75])\n",
    "Ceftamin_quartiles_df = pd.DataFrame(tumor_volumes_Ceftamin, columns = [\"Quartiles\"]).quantile([0.25, 0.75])"
   ]
  },
  {
   "cell_type": "code",
   "execution_count": 18,
   "metadata": {
    "scrolled": true
   },
   "outputs": [],
   "source": [
    "# Store Q1 and Q3 values individually in variables.\n",
    "Capomulin_lowerq = Capomulin_quartiles_df.iloc[0]\n",
    "Capomulin_upperq = Capomulin_quartiles_df.iloc[1]\n",
    "\n",
    "Ramicane_lowerq = Ramicane_quartiles_df.iloc[0]\n",
    "Ramicane_upperq = Ramicane_quartiles_df.iloc[1]\n",
    "\n",
    "Infubinol_lowerq = Infubinol_quartiles_df.iloc[0]\n",
    "Infubinol_upperq = Infubinol_quartiles_df.iloc[1]\n",
    "\n",
    "Ceftamin_lowerq = Ceftamin_quartiles_df.iloc[0]\n",
    "Ceftamin_upperq = Ceftamin_quartiles_df.iloc[1]"
   ]
  },
  {
   "cell_type": "code",
   "execution_count": 19,
   "metadata": {},
   "outputs": [],
   "source": [
    "# Compute IQR for each treatment.\n",
    "Capomulin_iqr = Capomulin_upperq-Capomulin_lowerq\n",
    "Ramicane_iqr = Ramicane_upperq-Ramicane_lowerq\n",
    "Infubinol_iqr = Infubinol_upperq-Infubinol_lowerq\n",
    "Ceftamin_iqr = Ceftamin_upperq-Ceftamin_lowerq"
   ]
  },
  {
   "cell_type": "code",
   "execution_count": 20,
   "metadata": {},
   "outputs": [],
   "source": [
    "# Compute upper and lower bounds and print outlier values.\n",
    "\n",
    "Capomulin_lower_bound = Capomulin_lowerq - (1.5*Capomulin_iqr)\n",
    "Capomulin_upper_bound = Capomulin_upperq + (1.5*Capomulin_iqr)\n",
    "\n",
    "\n",
    "Ramicane_lower_bound = Ramicane_lowerq - (1.5*Ramicane_iqr)\n",
    "Ramicane_upper_bound = Ramicane_upperq + (1.5*Ramicane_iqr)\n",
    "\n",
    "\n",
    "Infubinol_lower_bound = Infubinol_lowerq - (1.5*Infubinol_iqr)\n",
    "Infubinol_upper_bound = Infubinol_upperq + (1.5*Infubinol_iqr)\n",
    "\n",
    "\n",
    "Ceftamin_lower_bound = Ceftamin_lowerq - (1.5*Ceftamin_iqr)\n",
    "Ceftamin_upper_bound = Ceftamin_upperq + (1.5*Ceftamin_iqr)"
   ]
  },
  {
   "cell_type": "code",
   "execution_count": 21,
   "metadata": {},
   "outputs": [
    {
     "name": "stdout",
     "output_type": "stream",
     "text": [
      "Infubinol outlier:  36.321345799999996\n",
      "Infubinol outlier:  36.321345799999996\n",
      "Infubinol outlier:  36.321345799999996\n",
      "Infubinol outlier:  36.321345799999996\n"
     ]
    }
   ],
   "source": [
    "for tumor_volume in tumor_volumes_Capomulin:\n",
    "    if tumor_volume < Capomulin_lower_bound.iloc[0] or tumor_volume > Capomulin_upper_bound.iloc[0]:\n",
    "        print(f\"Capomulin outlier:  {tumor_volume}\")\n",
    "\n",
    "for tumor_volume in tumor_volumes_Ramicane:\n",
    "    if tumor_volume < Ramicane_lower_bound.iloc[0] or tumor_volume > Ramicane_upper_bound.iloc[0]:\n",
    "        print(f\"Ramicane outlier:  {tumor_volume}\")\n",
    "        \n",
    "for tumor_volume in tumor_volumes_Infubinol:\n",
    "    if tumor_volume < Infubinol_lower_bound.iloc[0] or tumor_volume > Infubinol_upper_bound.iloc[0]:\n",
    "        print(f\"Infubinol outlier:  {tumor_volume}\")\n",
    "        \n",
    "for tumor_volume in tumor_volumes_Ceftamin:\n",
    "    if tumor_volume < Ceftamin_lower_bound.iloc[0] or tumor_volume > Ceftamin_upper_bound.iloc[0]:\n",
    "        print(f\"Ceftamin outlier:  {tumor_volume}\")  "
   ]
  },
  {
   "cell_type": "code",
   "execution_count": 22,
   "metadata": {},
   "outputs": [
    {
     "data": {
      "image/png": "[encoded data removed]",
      "text/plain": [
       "<Figure size 432x288 with 1 Axes>"
      ]
     },
     "metadata": {
      "needs_background": "light"
     },
     "output_type": "display_data"
    }
   ],
   "source": [
    "# Generate a box plot of the final tumor volume of each mouse across four regimens of interest\n",
    "fig, ax = plt.subplots()\n",
    "ax.boxplot(tumor_volumes_Capomulin)\n",
    "ax.set_title('Tumor Sizes - Capomulin')\n",
    "ax.set_ylabel('Tumor Size (mm3)')\n",
    "plt.show()"
   ]
  },
  {
   "cell_type": "code",
   "execution_count": 23,
   "metadata": {},
   "outputs": [
    {
     "data": {
      "image/png": "[encoded data removed]",
      "text/plain": [
       "<Figure size 432x288 with 1 Axes>"
      ]
     },
     "metadata": {
      "needs_background": "light"
     },
     "output_type": "display_data"
    }
   ],
   "source": [
    "fig, ax = plt.subplots()\n",
    "ax.boxplot(tumor_volumes_Ramicane)\n",
    "ax.set_title('Tumor Sizes - Ramicane')\n",
    "ax.set_ylabel('Tumor Size (mm3)')\n",
    "plt.show()"
   ]
  },
  {
   "cell_type": "code",
   "execution_count": 24,
   "metadata": {},
   "outputs": [
    {
     "data": {
      "image/png": "[encoded data removed]",
      "text/plain": [
       "<Figure size 432x288 with 1 Axes>"
      ]
     },
     "metadata": {
      "needs_background": "light"
     },
     "output_type": "display_data"
    }
   ],
   "source": [
    "fig, ax = plt.subplots()\n",
    "ax.boxplot(tumor_volumes_Infubinol)\n",
    "ax.set_title('Tumor Sizes - Infubinol')\n",
    "ax.set_ylabel('Tumor Size (mm3)')\n",
    "plt.show()"
   ]
  },
  {
   "cell_type": "code",
   "execution_count": 25,
   "metadata": {},
   "outputs": [
    {
     "data": {
      "image/png": "[encoded data removed]",
      "text/plain": [
       "<Figure size 432x288 with 1 Axes>"
      ]
     },
     "metadata": {
      "needs_background": "light"
     },
     "output_type": "display_data"
    }
   ],
   "source": [
    "fig, ax = plt.subplots()\n",
    "ax.boxplot(tumor_volumes_Ceftamin)\n",
    "ax.set_title('Tumor Sizes - Ceftamin')\n",
    "ax.set_ylabel('Tumor Size (mm3)')\n",
    "plt.show()"
   ]
  },
  {
   "cell_type": "markdown",
   "metadata": {},
   "source": [
    "## Line and Scatter Plots"
   ]
  },
  {
   "cell_type": "code",
   "execution_count": 33,
   "metadata": {},
   "outputs": [
    {
     "data": {
      "image/png": "[encoded data removed]",
      "text/plain": [
       "<Figure size 432x288 with 1 Axes>"
      ]
     },
     "metadata": {
      "needs_background": "light"
     },
     "output_type": "display_data"
    }
   ],
   "source": [
    "# Generate a line plot of tumor volume vs. time point for a mouse treated with Capomulin\n",
    "Capomulin_df = clean_df.loc[(clean_df[\"Drug Regimen\"] == \"Capomulin\") & (clean_df[\"Mouse ID\"] == \"x401\")]\n",
    "plt.plot(Capomulin_df[\"Timepoint\"], Capomulin_df[\"Tumor Volume (mm3)\"])\n",
    "plt.xlabel('Timepoint')\n",
    "plt.ylabel('Tumor Volume (mm3)')\n",
    "plt.title(\"Tumor Volume vs. Time\")\n",
    "plt.show()"
   ]
  },
  {
   "cell_type": "code",
   "execution_count": 34,
   "metadata": {},
   "outputs": [
    {
     "data": {
      "image/png": "[encoded data removed]",
      "text/plain": [
       "<Figure size 432x288 with 1 Axes>"
      ]
     },
     "metadata": {
      "needs_background": "light"
     },
     "output_type": "display_data"
    }
   ],
   "source": [
    "# Generate a scatter plot of average tumor volume vs. mouse weight for the Capomulin regimen\n",
    "df = clean_df.loc[clean_df[\"Drug Regimen\"] == \"Capomulin\"]\n",
    "df_gb = df.groupby([\"Drug Regimen\"]).agg({\"Weight (g)\": \"first\"}, {\"Tumor Volume (mm3)\": \"mean\"})\n",
    "plt.scatter(df[\"Weight (g)\"], df[\"Tumor Volume (mm3)\"])\n",
    "plt.xlabel('Weight (g)')\n",
    "plt.ylabel('Tumor Volume (mm3)')\n",
    "plt.title(\"Tumor Volume vs. Mouse Weight\")\n",
    "plt.show()"
   ]
  },
  {
   "cell_type": "markdown",
   "metadata": {},
   "source": [
    "## Correlation and Regression"
   ]
  },
  {
   "cell_type": "code",
   "execution_count": 41,
   "metadata": {},
   "outputs": [
    {
     "name": "stdout",
     "output_type": "stream",
     "text": [
      "Moderate correlation between weight and tumor volume: 0.525699555207717\n"
     ]
    }
   ],
   "source": [
    "# Calculate the correlation coefficient for mouse weight and average tumor volume for the Capomulin regimen\n",
    "correlation = sts.pearsonr(df[\"Weight (g)\"], df[\"Tumor Volume (mm3)\"])\n",
    "print(f\"Moderate correlation between weight and tumor volume: {correlation[0]}\")"
   ]
  },
  {
   "cell_type": "code",
   "execution_count": 46,
   "metadata": {},
   "outputs": [
    {
     "data": {
      "image/png": "[encoded data removed]",
      "text/plain": [
       "<Figure size 432x288 with 1 Axes>"
      ]
     },
     "metadata": {
      "needs_background": "light"
     },
     "output_type": "display_data"
    }
   ],
   "source": [
    "# Calculate the linear regression model for mouse weight and average tumor volume for the Capomulin regimen\n",
    "slope, y_int, r, p, std_err = sts.linregress(df[\"Weight (g)\"], df[\"Tumor Volume (mm3)\"])\n",
    "predicted_tumor_volume = slope * df[\"Weight (g)\"] + y_int\n",
    "plt.plot(df[\"Weight (g)\"], predicted_tumor_volume,\"--\")\n",
    "plt.scatter(df[\"Weight (g)\"], df[\"Tumor Volume (mm3)\"])\n",
    "plt.xlabel('Weight (g)')\n",
    "plt.ylabel('Tumor Volume (mm3)')\n",
    "plt.title(\"Tumor Volume vs. Mouse Weight\")\n",
    "plt.show()"
   ]
  }
 ],
 "metadata": {
  "anaconda-cloud": {},
  "kernelspec": {
   "display_name": "Python 3",
   "language": "python",
   "name": "python3"
  },
  "language_info": {
   "codemirror_mode": {
    "name": "ipython",
    "version": 3
   },
   "file_extension": ".py",
   "mimetype": "text/x-python",
   "name": "python",
   "nbconvert_exporter": "python",
   "pygments_lexer": "ipython3",
   "version": "3.8.3"
  }
 },
 "nbformat": 4,
 "nbformat_minor": 4
}
